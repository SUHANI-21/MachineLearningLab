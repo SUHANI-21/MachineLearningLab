{
  "nbformat": 4,
  "nbformat_minor": 0,
  "metadata": {
    "colab": {
      "provenance": [],
      "authorship_tag": "ABX9TyPAqM8y1heI1x7vUSwK2ZK4",
      "include_colab_link": true
    },
    "kernelspec": {
      "name": "python3",
      "display_name": "Python 3"
    },
    "language_info": {
      "name": "python"
    }
  },
  "cells": [
    {
      "cell_type": "markdown",
      "metadata": {
        "id": "view-in-github",
        "colab_type": "text"
      },
      "source": [
        "<a href=\"https://colab.research.google.com/github/SUHANI-21/MachineLearningLab/blob/main/3waysplit.ipynb\" target=\"_parent\"><img src=\"https://colab.research.google.com/assets/colab-badge.svg\" alt=\"Open In Colab\"/></a>"
      ]
    },
    {
      "cell_type": "markdown",
      "source": [
        "This applies Logistic Regression to a subset of the Digits dataset containing digits 0, 1, and 2 — forming a 3-way classification problem.\n",
        "A Stratified 3-Fold Cross Validation is used to ensure class balance and fair evaluation.\n",
        "The model learns to distinguish between the three classes and reports per-fold accuracies along with the mean accuracy to measure consistency and generalization."
      ],
      "metadata": {
        "id": "_Mq5qObOWhyY"
      }
    },
    {
      "cell_type": "code",
      "execution_count": 1,
      "metadata": {
        "colab": {
          "base_uri": "https://localhost:8080/"
        },
        "id": "MUNh70rHQk6-",
        "outputId": "5bfde09f-5908-45c0-a307-06f174cbb9ef"
      },
      "outputs": [
        {
          "output_type": "stream",
          "name": "stdout",
          "text": [
            "Dataset shape: (537, 64)\n",
            "Classes present: [0 1 2]\n",
            "Fold accuracies: [1. 1. 1.]\n",
            "Mean accuracy: 1.0\n"
          ]
        }
      ],
      "source": [
        "from sklearn.datasets import load_digits\n",
        "from sklearn.linear_model import LogisticRegression\n",
        "from sklearn.model_selection import StratifiedKFold, cross_val_score\n",
        "import numpy as np\n",
        "\n",
        "digits = load_digits()\n",
        "X, y = digits.data, digits.target\n",
        "\n",
        "# Keep only digits 0, 1, and 2\n",
        "mask = (y == 0) | (y == 1) | (y == 2)\n",
        "X, y = X[mask], y[mask]\n",
        "\n",
        "print(\"Dataset shape:\", X.shape)\n",
        "print(\"Classes present:\", np.unique(y))\n",
        "\n",
        "\n",
        "model = LogisticRegression(max_iter=10000)\n",
        "\n",
        "\n",
        "kf = StratifiedKFold(n_splits=3, shuffle=True, random_state=42)\n",
        "\n",
        "scores = cross_val_score(model, X, y, cv=kf, scoring='accuracy')\n",
        "\n",
        "print(\"Fold accuracies:\", scores)\n",
        "print(\"Mean accuracy:\", scores.mean())\n"
      ]
    },
    {
      "cell_type": "markdown",
      "source": [],
      "metadata": {
        "id": "oq0lr4P_Q11Z"
      }
    }
  ]
}