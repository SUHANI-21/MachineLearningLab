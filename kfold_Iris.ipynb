{
  "nbformat": 4,
  "nbformat_minor": 0,
  "metadata": {
    "colab": {
      "provenance": [],
      "authorship_tag": "ABX9TyPQJ1QkMMaay9gl4o5HaY+U",
      "include_colab_link": true
    },
    "kernelspec": {
      "name": "python3",
      "display_name": "Python 3"
    },
    "language_info": {
      "name": "python"
    }
  },
  "cells": [
    {
      "cell_type": "markdown",
      "metadata": {
        "id": "view-in-github",
        "colab_type": "text"
      },
      "source": [
        "<a href=\"https://colab.research.google.com/github/SUHANI-21/MachineLearningLab/blob/main/kfold_Iris.ipynb\" target=\"_parent\"><img src=\"https://colab.research.google.com/assets/colab-badge.svg\" alt=\"Open In Colab\"/></a>"
      ]
    },
    {
      "cell_type": "markdown",
      "source": [],
      "metadata": {
        "id": "DF64F9PZWCSL"
      }
    },
    {
      "cell_type": "code",
      "execution_count": null,
      "metadata": {
        "id": "zjI75FM-PH1U"
      },
      "outputs": [],
      "source": [
        "from sklearn.datasets import load_iris\n",
        "from sklearn.linear_model import LogisticRegression\n",
        "from sklearn.model_selection import KFold, StratifiedKFold, cross_val_score\n",
        "from sklearn.metrics import accuracy_score\n",
        "import numpy as np\n",
        "\n",
        "# Load data\n",
        "iris = load_iris()\n",
        "X, y = iris.data, iris.target\n"
      ]
    },
    {
      "cell_type": "code",
      "source": [
        "kf = KFold(n_splits=2, shuffle=True, random_state=42)\n",
        "\n",
        "accuracies = []\n",
        "fold = 1\n",
        "\n",
        "for train_index, test_index in kf.split(X):\n",
        "    X_train, X_test = X[train_index], X[test_index]\n",
        "    y_train, y_test = y[train_index], y[test_index]\n",
        "\n",
        "    model = LogisticRegression(max_iter=1000)\n",
        "    model.fit(X_train, y_train)\n",
        "    y_pred = model.predict(X_test)\n",
        "\n",
        "    acc = accuracy_score(y_test, y_pred)\n",
        "    accuracies.append(acc)\n",
        "    print(f\"Fold {fold}: Accuracy = {acc:.3f}\")\n",
        "    fold += 1\n",
        "\n",
        "print(f\"\\nAverage accuracy over 2 folds: {np.mean(accuracies):.3f}\")\n"
      ],
      "metadata": {
        "colab": {
          "base_uri": "https://localhost:8080/"
        },
        "id": "i6yhRVsWPOoJ",
        "outputId": "6a9a9b8d-b4c4-4763-c395-075227881719"
      },
      "execution_count": null,
      "outputs": [
        {
          "output_type": "stream",
          "name": "stdout",
          "text": [
            "Fold 1: Accuracy = 1.000\n",
            "Fold 2: Accuracy = 0.947\n",
            "\n",
            "Average accuracy over 2 folds: 0.973\n"
          ]
        }
      ]
    },
    {
      "cell_type": "code",
      "source": [
        "kf = KFold(n_splits=2, shuffle=True, random_state=42)\n",
        "model = LogisticRegression(max_iter=1000)\n",
        "\n",
        "scores = cross_val_score(model, X, y, cv=kf, scoring='accuracy')\n",
        "\n",
        "print(\"Scores for each fold:\", scores)\n",
        "print(\"Average accuracy:\", scores.mean())\n"
      ],
      "metadata": {
        "id": "q-Vk6k-IPR9o",
        "outputId": "5780a02c-148a-4799-c5dc-6e8234726209",
        "colab": {
          "base_uri": "https://localhost:8080/"
        }
      },
      "execution_count": null,
      "outputs": [
        {
          "output_type": "stream",
          "name": "stdout",
          "text": [
            "Scores for each fold: [1.         0.94666667]\n",
            "Average accuracy: 0.9733333333333334\n"
          ]
        }
      ]
    },
    {
      "cell_type": "markdown",
      "source": [
        "This project applies Logistic Regression to a subset of the Digits dataset containing digits 0, 1, and 2 — forming a 3-way classification problem.\n",
        "A Stratified 3-Fold Cross Validation is used to ensure class balance and fair evaluation.\n",
        "The model learns to distinguish between the three classes and reports per-fold accuracies along with the mean accuracy to measure consistency and generalization."
      ],
      "metadata": {
        "id": "_Mq5qObOWhyY"
      }
    },
    {
      "cell_type": "code",
      "source": [
        "from sklearn.datasets import load_digits\n",
        "from sklearn.linear_model import LogisticRegression\n",
        "from sklearn.model_selection import StratifiedKFold, cross_val_score\n",
        "import numpy as np\n",
        "\n",
        "digits = load_digits()\n",
        "X, y = digits.data, digits.target\n",
        "\n",
        "# Keep only digits 0, 1, and 2\n",
        "mask = (y == 0) | (y == 1) | (y == 2)\n",
        "X, y = X[mask], y[mask]\n",
        "\n",
        "print(\"Dataset shape:\", X.shape)\n",
        "print(\"Classes present:\", np.unique(y))\n",
        "\n",
        "\n",
        "model = LogisticRegression(max_iter=10000)\n",
        "\n",
        "\n",
        "kf = StratifiedKFold(n_splits=3, shuffle=True, random_state=42)\n",
        "\n",
        "scores = cross_val_score(model, X, y, cv=kf, scoring='accuracy')\n",
        "\n",
        "print(\"Fold accuracies:\", scores)\n",
        "print(\"Mean accuracy:\", scores.mean())\n"
      ],
      "metadata": {
        "colab": {
          "base_uri": "https://localhost:8080/"
        },
        "id": "7A-agmGzVzVJ",
        "outputId": "a59ec23a-b1bc-4b95-8fc0-8509d58f9d6f"
      },
      "execution_count": 4,
      "outputs": [
        {
          "output_type": "stream",
          "name": "stdout",
          "text": [
            "Dataset shape: (537, 64)\n",
            "Classes present: [0 1 2]\n",
            "Fold accuracies: [1. 1. 1.]\n",
            "Mean accuracy: 1.0\n"
          ]
        }
      ]
    }
  ]
}